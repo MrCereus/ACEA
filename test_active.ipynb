{
 "cells": [
  {
   "cell_type": "code",
   "execution_count": 1,
   "metadata": {},
   "outputs": [],
   "source": [
    "from model import MyKG\n",
    "import torch\n",
    "from datetime import datetime\n",
    "from load import MyDataserLoader\n",
    "from strategy_util import *\n",
    "from sklearn.cluster import KMeans\n",
    "args = {\n",
    "    'device':'cuda:0',\n",
    "    'time':datetime.now().strftime(\"%Y%m%d%H%M%S\"),\n",
    "    'language':'zh_en',\n",
    "    'epoch':150,\n",
    "    'batch_size':64,\n",
    "    'queue_length':64,\n",
    "    'center_norm':False,\n",
    "    'neighbor_norm':True,\n",
    "    'emb_norm':True,\n",
    "    'combine':True,\n",
    "    'gat_num':1,\n",
    "    't': 0.08,\n",
    "    'momentum':0.9999,\n",
    "    'lr':1e-6,\n",
    "    'dropout':0.3\n",
    "}\n",
    "device = torch.device('cuda')\n",
    "path = \"/home/mrcactus/Thesis/ACEA/data/DBP15K\""
   ]
  },
  {
   "cell_type": "code",
   "execution_count": 2,
   "metadata": {},
   "outputs": [
    {
     "name": "stdout",
     "output_type": "stream",
     "text": [
      "Language: zh_en\n",
      "Train data size: 750\n",
      "Best Test  Hit@1  = 0.66(0.802) at epoch 0\n",
      "Best Test  Hit@10 = 0.802(0.66) at epoch 0\n",
      "start: 2024-01-30 18:04:35\n",
      "end: 2024-01-30 18:04:49\n",
      "used_time: 0:00:14.349740\n",
      "====================================\n",
      "Train data size: 1500\n",
      "Best Test  Hit@1  = 0.67(0.809) at epoch 0\n",
      "Best Test  Hit@10 = 0.809(0.67) at epoch 0\n",
      "start: 2024-01-30 18:05:03\n",
      "end: 2024-01-30 18:05:14\n",
      "used_time: 0:00:11.320783\n",
      "====================================\n",
      "Train data size: 2250\n",
      "Best Test  Hit@1  = 0.702(0.834) at epoch 0\n",
      "Best Test  Hit@10 = 0.834(0.702) at epoch 0\n",
      "start: 2024-01-30 18:05:24\n",
      "end: 2024-01-30 18:05:39\n",
      "used_time: 0:00:15.371784\n",
      "====================================\n"
     ]
    },
    {
     "ename": "KeyboardInterrupt",
     "evalue": "",
     "output_type": "error",
     "traceback": [
      "\u001b[0;31m---------------------------------------------------------------------------\u001b[0m",
      "\u001b[0;31mKeyboardInterrupt\u001b[0m                         Traceback (most recent call last)",
      "\u001b[0;32m<__array_function__ internals>\u001b[0m in \u001b[0;36mwhere\u001b[0;34m(*args, **kwargs)\u001b[0m\n",
      "\u001b[0;31mKeyboardInterrupt\u001b[0m: "
     ]
    },
    {
     "name": "stderr",
     "output_type": "stream",
     "text": [
      "Exception ignored in: 'sklearn.cluster._k_means_common._relocate_empty_clusters_dense'\n",
      "Traceback (most recent call last):\n",
      "  File \"<__array_function__ internals>\", line 2, in where\n",
      "KeyboardInterrupt\n"
     ]
    },
    {
     "name": "stdout",
     "output_type": "stream",
     "text": [
      "Train data size: 3000\n"
     ]
    }
   ],
   "source": [
    "args['language'] = 'zh_en'\n",
    "print(\"Language: \" + args['language'])\n",
    "g = construct_graph(path+'/'+args['language'], 'origin')\n",
    "loader = MyDataserLoader(path, args)\n",
    "tot = 750\n",
    "while tot <= 4500:\n",
    "    print(\"Train data size: \" + str(tot))\n",
    "    model = MyKG(args, device, path, loader)\n",
    "    source, target, D, I, kg1_vector = model.train()\n",
    "    selected_ent = measure_struct_uncertainty(g, source, D, 0.1, kg1_vector, 10, loader)\n",
    "    source_I = {source[i]:I[:,0:2][i] for i in range(len(source))}\n",
    "    loader.update_data(selected_ent[:750], source_I, rand=True)\n",
    "    tot += 750"
   ]
  },
  {
   "cell_type": "code",
   "execution_count": 2,
   "metadata": {},
   "outputs": [],
   "source": [
    "loader = MyDataserLoader(path, args)"
   ]
  },
  {
   "cell_type": "code",
   "execution_count": 3,
   "metadata": {},
   "outputs": [
    {
     "name": "stdout",
     "output_type": "stream",
     "text": [
      "Best Test  Hit@1  = 0.661(0.807) at epoch 0\n",
      "Best Test  Hit@10 = 0.807(0.661) at epoch 0\n",
      "start: 2024-01-30 17:59:51\n",
      "end: 2024-01-30 18:00:04\n",
      "used_time: 0:00:12.794503\n",
      "====================================\n"
     ]
    }
   ],
   "source": [
    "model = MyKG(args, device, path, loader)\n",
    "source, target, D, I, kg1_vector = model.train()"
   ]
  },
  {
   "cell_type": "code",
   "execution_count": 4,
   "metadata": {},
   "outputs": [],
   "source": [
    "g = construct_graph(path+'/'+args['language'], 'origin')"
   ]
  },
  {
   "cell_type": "code",
   "execution_count": 5,
   "metadata": {},
   "outputs": [],
   "source": [
    "selected_ent = measure_struct_uncertainty(g, source, D, 0.1)"
   ]
  },
  {
   "cell_type": "code",
   "execution_count": 6,
   "metadata": {},
   "outputs": [],
   "source": [
    "selected_ent_k = measure_struct_uncertainty(g, source, D, 0.1, kg1_vector, 10, loader)"
   ]
  },
  {
   "cell_type": "code",
   "execution_count": 8,
   "metadata": {},
   "outputs": [],
   "source": [
    "selected_ent = selected_ent[:750]\n",
    "selected_ent_k = selected_ent_k[:750]"
   ]
  },
  {
   "cell_type": "code",
   "execution_count": 10,
   "metadata": {},
   "outputs": [
    {
     "data": {
      "text/plain": [
       "544"
      ]
     },
     "execution_count": 10,
     "metadata": {},
     "output_type": "execute_result"
    }
   ],
   "source": [
    "np.sum([1 if selected_ent[i] in selected_ent_k else 0 for i in range(len(selected_ent))])"
   ]
  },
  {
   "cell_type": "code",
   "execution_count": 4,
   "metadata": {},
   "outputs": [],
   "source": [
    "u = measure_uncertainty(D, topK=5, measure=\"margin\")"
   ]
  },
  {
   "cell_type": "code",
   "execution_count": 5,
   "metadata": {},
   "outputs": [],
   "source": [
    "km = measure_kmeans(source, kg1_vector, 10, loader)"
   ]
  },
  {
   "cell_type": "code",
   "execution_count": null,
   "metadata": {},
   "outputs": [],
   "source": [
    "len(loader.ill_train_idx[0])+len(loader.link)"
   ]
  },
  {
   "cell_type": "code",
   "execution_count": null,
   "metadata": {},
   "outputs": [],
   "source": [
    "model = MyKG(args, device, path, loader)\n",
    "source, target, D, I = model.train()"
   ]
  },
  {
   "cell_type": "code",
   "execution_count": null,
   "metadata": {},
   "outputs": [],
   "source": [
    "selected_ent = measure_struct_uncertainty(g, source, D, 0.1)"
   ]
  },
  {
   "cell_type": "code",
   "execution_count": null,
   "metadata": {},
   "outputs": [],
   "source": [
    "loader.update_data(selected_ent[:750])"
   ]
  },
  {
   "cell_type": "code",
   "execution_count": null,
   "metadata": {},
   "outputs": [],
   "source": [
    "len(set(loader.ill_train_idx[0]))"
   ]
  }
 ],
 "metadata": {
  "kernelspec": {
   "display_name": "selfkg",
   "language": "python",
   "name": "python3"
  },
  "language_info": {
   "codemirror_mode": {
    "name": "ipython",
    "version": 3
   },
   "file_extension": ".py",
   "mimetype": "text/x-python",
   "name": "python",
   "nbconvert_exporter": "python",
   "pygments_lexer": "ipython3",
   "version": "3.7.16"
  }
 },
 "nbformat": 4,
 "nbformat_minor": 2
}
