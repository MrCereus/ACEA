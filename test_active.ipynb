{
 "cells": [
  {
   "cell_type": "code",
   "execution_count": 1,
   "metadata": {},
   "outputs": [],
   "source": [
    "from model import MyKG\n",
    "import torch\n",
    "from datetime import datetime\n",
    "args = {\n",
    "    'device':'cuda:0',\n",
    "    'time':datetime.now().strftime(\"%Y%m%d%H%M%S\"),\n",
    "    'language':'ja_en',\n",
    "    'epoch':150,\n",
    "    'batch_size':128,\n",
    "    'queue_length':64,\n",
    "    'center_norm':False,\n",
    "    'neighbor_norm':True,\n",
    "    'emb_norm':True,\n",
    "    'combine':True,\n",
    "    'gat_num':1,\n",
    "    't': 0.08,\n",
    "    'momentum':0.9999,\n",
    "    'lr':1e-6,\n",
    "    'dropout':0.3\n",
    "}\n",
    "device = torch.device('cuda')\n",
    "path = \"/home/mrcactus/Thesis/ACEA/data/DBP15K\"\n",
    "model = MyKG(args, device, path)\n"
   ]
  },
  {
   "cell_type": "code",
   "execution_count": null,
   "metadata": {},
   "outputs": [],
   "source": [
    "model.train()"
   ]
  }
 ],
 "metadata": {
  "kernelspec": {
   "display_name": "selfkg",
   "language": "python",
   "name": "python3"
  },
  "language_info": {
   "codemirror_mode": {
    "name": "ipython",
    "version": 3
   },
   "file_extension": ".py",
   "mimetype": "text/x-python",
   "name": "python",
   "nbconvert_exporter": "python",
   "pygments_lexer": "ipython3",
   "version": "3.7.16"
  }
 },
 "nbformat": 4,
 "nbformat_minor": 2
}
